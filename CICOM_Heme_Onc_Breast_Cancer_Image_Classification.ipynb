{
  "nbformat": 4,
  "nbformat_minor": 0,
  "metadata": {
    "kernelspec": {
      "display_name": "Python 3",
      "language": "python",
      "name": "python3"
    },
    "language_info": {
      "codemirror_mode": {
        "name": "ipython",
        "version": 3
      },
      "file_extension": ".py",
      "mimetype": "text/x-python",
      "name": "python",
      "nbconvert_exporter": "python",
      "pygments_lexer": "ipython3",
      "version": "3.7.1"
    },
    "colab": {
      "name": "CICOM Heme Onc Breast Cancer Image Classification.ipynb",
      "provenance": [],
      "collapsed_sections": [],
      "include_colab_link": true
    }
  },
  "cells": [
    {
      "cell_type": "markdown",
      "metadata": {
        "id": "view-in-github",
        "colab_type": "text"
      },
      "source": [
        "<a href=\"https://colab.research.google.com/github/ryerrabelli/BreastCancerClassification/blob/main/CICOM_Heme_Onc_Breast_Cancer_Image_Classification.ipynb\" target=\"_parent\"><img src=\"https://colab.research.google.com/assets/colab-badge.svg\" alt=\"Open In Colab\"/></a>"
      ]
    },
    {
      "cell_type": "markdown",
      "metadata": {
        "id": "fJuEmiwicl5P"
      },
      "source": [
        "#Machine Learning with Python\n",
        "This notebook will walk you through the use of a model that was built to detect invasive ductal carcinoma (IDC) from pathology images.  This model was built as a neural network that accepts a 3 channel RGB color image size of 50 x 50 pixel image at a resolution of around 4um/pixel, derived from this publication: [A Dataset for Breast Cancer Histopathological Image Classification](https://ieeexplore.ieee.org/document/7312934).  The publication has updated their source to this location as of 2020-10-26: [BreakHis Public Dataset](https://web.inf.ufpr.br/vri/databases/breast-cancer-histopathological-database-breakhis/)\n",
        "\n",
        "This supervised neural net was modified based on a model developed by Adrian Rosenbrock, published on pyimagesearch.com [1](#REF).  trained on a dataset of approximately 55,000 images; containing images classified as cancer (class 1) and images classified as non-cancer/control (class 0).  The model was trained 5-6 times, and produced the following output statistics and confusion matrix for each run:\n",
        "```\n",
        "     precision    recall  f1-score   support\n",
        "0       0.94      0.76      0.84     39612   \n",
        "1       0.60      0.89      0.71     15893\n",
        "\n",
        "micro avg       \t0.80      0.80      0.80     55505\n",
        "macro avg       \t0.77      0.82      0.78     55505\n",
        "weighted avg      0.85      0.80      0.81     55505\n",
        "\n",
        "cm=\n",
        "[[30068  9544]\n",
        "[ 1756 14137]]\n",
        "\n",
        "acc: 0.7964, sens: 0.7591, spec: 0.8895\n",
        "```\n",
        "\n",
        "\n",
        "Notice the averaged accuracy of ~79%.  This metric is only a high-level report on the model itself, due to the way the model was trained in batches.  For comparison: One study found that of H&E stained core biopsy samples from 874 patients with invasive ductal carcinoma, 800 were diagnosed from the initial core sample (91.5%).  Those statistics taken from PMC article: [Diagnostic accuracy of core biopsy for ductal carcinoma in situ and its implications for surgical practice](https://www.ncbi.nlm.nih.gov/pmc/articles/PMC1860430/).\n",
        "\n",
        "Once the model was trained, the weighted parameters that comprise the model itself were saved out to ```.h5``` file.  The architecture of the model was saved to a ```.json```.\n",
        "\n",
        "What we will do in this notebook is load the model structure and parameters so that we can run new images through the model.  This demonstrates how one could deploy a model once trained and validated.  It will also allow the model to test your acquired images so that you can evaluate the robustness of the model and get a better sense for how difficult a neural net might be to effectively deploy in practice.\n",
        "\n"
      ]
    },
    {
      "cell_type": "code",
      "metadata": {
        "id": "RgLs59_TNx5I",
        "cellView": "form"
      },
      "source": [
        "#@title Import Libraries\n",
        "#@markdown We'll be using Keras on TensorFlow 1.x for this model. <br>\n",
        "#@markdown You only have to run this once.\n",
        " \n",
        "# load modules\n",
        "# select which version of TF to use manually\n",
        "%tensorflow_version 1.x \n",
        "import numpy as np\n",
        "from matplotlib import pyplot as plt\n",
        "from google.colab import files\n",
        "import tensorflow as tf\n",
        "import os\n",
        "os.environ['TF_CPP_MIN_LOG_LEVEL'] = '2' \n",
        "import sys\n",
        "from PIL import Image\n",
        "from IPython.display import display, Markdown, clear_output\n",
        " \n",
        "# prevent keras from printing a bunch of config- warnings from shell\n",
        "stderr = sys.stderr\n",
        "sys.stderr = open(os.devnull, 'w')\n",
        "from keras.models import model_from_json\n",
        "sys.stderr = stderr\n",
        " \n",
        " \n",
        "# on_load_file expects a string, ftype, designating which extension to load\n",
        "def on_load_file(ftype, event=None):\n",
        "    \"\"\"Open file dialog to load file.\"\"\"\n",
        "    f_path = files.upload()\n",
        "    for f in f_path.keys():\n",
        "      if ftype in f:\n",
        "        return f\n",
        "        break\n",
        "        \n",
        "    print(\"Didn't find file of type: {}, please re-run.\".format(ftype))\n",
        "    return -1"
      ],
      "execution_count": null,
      "outputs": []
    },
    {
      "cell_type": "code",
      "metadata": {
        "id": "lhOs8EzMjf53",
        "cellView": "form",
        "outputId": "5e0e5489-2318-4fee-c56c-11378c255e91",
        "colab": {
          "base_uri": "https://localhost:8080/"
        }
      },
      "source": [
        "#@title Pull in trained model and images from Github\n",
        "#@markdown We've trained the model for you, as it can be very time consuming to train. <br>\n",
        "#@markdown We'll read in the model files and test images from a public repository here. \n",
        " \n",
        "all_files = [\"test_imgs.zip\\n\", \"model_weights.h5\\n\", \"model_file.json\\n\"]\n",
        " \n",
        "download_files = [f for f in os.listdir() if os.path.isfile(f)]\n",
        "if \"to_download.txt\" in download_files:\n",
        "    !rm \"to_download.txt\"\n",
        "    print(\"resetting downloads...\")\n",
        "# find old files dont re download\n",
        "with open(\"to_download.txt\", \"w\") as to_get:\n",
        "    for f in all_files:\n",
        "        if f.strip('\\n') in download_files:\n",
        "            print(f\"skipping {f.strip(os.linesep)}, exists in files...\")\n",
        "            continue\n",
        "        else:\n",
        "            to_get.write(\"https://raw.githubusercontent.com/ebbethke/cimed-hemeonc/main/\"+f)\n",
        " \n",
        " \n",
        " \n",
        "!wget -q -i to_download.txt\n",
        "print(\"Files downloaded!\")\n",
        " \n",
        "if not os.path.isdir(\"test_imgs\"):\n",
        "    print(\"Unzipping test images to folder...\")\n",
        "    to_unzip = \"test_imgs.zip\"\n",
        "    !unzip $to_unzip\n",
        "    print(\"Unzipping complete!\")"
      ],
      "execution_count": null,
      "outputs": [
        {
          "output_type": "stream",
          "text": [
            "resetting downloads...\n",
            "skipping test_imgs.zip, exists in files...\n",
            "skipping model_weights.h5, exists in files...\n",
            "skipping model_file.json, exists in files...\n",
            "Files downloaded!\n"
          ],
          "name": "stdout"
        }
      ]
    },
    {
      "cell_type": "markdown",
      "metadata": {
        "id": "0rTSBfqEg7HY"
      },
      "source": [
        "# How this model works\n",
        "We've walked you through what the model is doing in the steps below.  The notebook will do all this for you, but you should understand what's actually going on at a conceptual level.  The goal is for you to understand roughly how the model works, what it might take to use/implement it, and how to evaluate its usefulness for the task at hand.\n"
      ]
    },
    {
      "cell_type": "markdown",
      "metadata": {
        "id": "SSU18qbUZAuq"
      },
      "source": [
        "## Step 1: Load .json Model \n",
        "\n",
        "We provided you with a json file containing the architecture of the neural net that was trained ahead of time.  To train the net on 55,000 images took 65 minutes on a GPU virtual machine, or VM, with 16 vCPU cores, 1096 GPU cores, and 64GB of RAM.  There is no manual component to training the model; everything must be set up and configured ahead of time, and only once the training is complete can you test the model against new images.\n",
        "\n",
        "That said, as the model is running you can monitor the training loss and accuracy to ensure the parameters are set correctly.  If the loss keeps increasing from epoch to epoch, it would be common to stop the training and adjust parameters."
      ]
    },
    {
      "cell_type": "markdown",
      "metadata": {
        "id": "IP9M_Q9-cLns"
      },
      "source": [
        "## Step 2: Load the Node Weights\n",
        "\n",
        "These weights and biases are numerical, and dictate the activation of each node for a given input.  In this case, the model accepts a 50 x 50 x 3 channel image, and 'learns' by associating each RGB pixel from a 50 x 50 image with a label of **cancer** or **not cancer**. As the model learns, it tweaks these numerical values at each node based on a cost function and activation function to improve the degree to which the output agrees with the label given."
      ]
    },
    {
      "cell_type": "markdown",
      "metadata": {
        "id": "dc8aXo0-hTcy"
      },
      "source": [
        "## Step 3: Load Your Test Images\n",
        "\n",
        "Now that the model is loaded, we can upload the images to test it against.  The model expects to recieve a folder structure as follows:\n",
        "```\n",
        "Folder:[ test_imgs ]\n",
        "            |\n",
        "       Folder:[   99999   ]\n",
        "                  |     |     |   \n",
        "                  img   img   img ...\n",
        "\n",
        "```\n",
        "\n",
        "**NOTE: The names of the folders and parts of the filenames are set up for you to make the model easier to run consistently**.  The names themselves aren't important, but please don't change the names of the folders or files unless you know what you're doing.\n",
        "\n",
        "The images should be RGB ```.png``` files, and the whole folder was downloaded and unzipped for you above.  You can use the ```test_imgs``` folder provided to confirm and test.  \n",
        "\n",
        "### Testing custom images\n",
        "We've set up the code so that you can run this with your own acquired images that you can upload in the files tab.  You'll see we've uploaded 4 examples for you in the ```test_imgs/99999/``` folder you downloaded above.  If you want to test your own images, please adhere to the following rules:\n",
        "1. Upload the images as png\n",
        "2. Upload the images and move them to the ```99999``` folder inside ```test_imgs``` folder\n",
        "3. Append ```_tc0``` to the image filenames you labeled as non-cancer/control, and append ```_tc1``` to images filenames you labeled as cancer.  The test script will look for those filenames to display your images separately.\n",
        "\n",
        "**Warning: If you do not use the exact same file/folder convention as above for your folder, the model may not run.**"
      ]
    },
    {
      "cell_type": "markdown",
      "metadata": {
        "id": "KCEVx71FjZwJ"
      },
      "source": [
        "## Running the Model\n",
        "\n",
        "The model now creates an image generator which will pre-process and run the images in the ```classes``` sub-folder of the ```TEST_PATH``` folder through the model.  The output of the model is a prediction array, ```[P(0) | X, P(1) | X]``` where ```P(0) | X``` is the predicted liklihood estimate that image ```X``` belongs to class 0, or non-cancer/control.  Predictions for this model will be $\\in (0,1)$ for non-blank images. \n"
      ]
    },
    {
      "cell_type": "code",
      "metadata": {
        "id": "gnOKDIs5Nx5T",
        "cellView": "form",
        "outputId": "a00a51b2-015d-4257-beb2-7729aaa04183",
        "colab": {
          "base_uri": "https://localhost:8080/"
        }
      },
      "source": [
        "#@title Run the Model.\n",
        "#@markdown This code passes the images provided to the model using <br>\n",
        "#@markdown an image generator function, scores the image (0,1) and returns <br>\n",
        "#@markdown that value to a list structure we will use to evaluate our model. <br><br>\n",
        "#@markdown You should see an output like: <br>\n",
        "#@markdown ```Found 19 images belonging to 1 classes.``` <br>\n",
        "#@markdown ```Prediction: 0, score: 0.004669214133173227``` <br> \n",
        "#@markdown ```Prediction: 1, score: 0.5614888668060303``` <br> \n",
        "#@markdown ```Prediction: 1, score: 0.9028431177139282``` <br>\n",
        "#@markdown ``` .........```\n",
        " \n",
        " \n",
        "# Time to make the donuts\n",
        "# This script will load the images from the test_imgs folder and run them \n",
        "# through a generator that will pre-process the images for input into the \n",
        "# neural net.  When the neural net runs, it will activate the final output\n",
        "# node with a float, (0.0, 1.0). If the output for that input is closer to 0,\n",
        "# the model predicts the input image was of control/normal tissue.\n",
        "# If closer to 1, the model predicts the input image contained features \n",
        "# consistent with invasive ductal carcinoma. \n",
        "from keras.preprocessing.image import ImageDataGenerator\n",
        "from sklearn.metrics import classification_report\n",
        " \n",
        "# suppress non-error TF output \n",
        "os.environ['TF_CPP_MIN_LOG_LEVEL'] = '3'\n",
        "tf.logging.set_verbosity(tf.logging.ERROR)\n",
        "# load model file\n",
        "with open(\"model_file.json\", 'r') as jmodel:\n",
        "    json_string = jmodel.read()\n",
        "model = model_from_json(json_string)\n",
        "# load weights and biases\n",
        "model.load_weights(\"model_weights.h5\")\n",
        " \n",
        "# set path to test images, and batch size\n",
        "TEST_PATH = \"test_imgs/\"\n",
        "BATCH = 32\n",
        " \n",
        "# initialize the validation (and testing) data augmentation object\n",
        "valAug = ImageDataGenerator(rescale=1 / 255.0)\n",
        " \n",
        "# initialize the testing generator\n",
        "testGen = valAug.flow_from_directory(\n",
        "    TEST_PATH,\n",
        "    classes=[\"99999\"],\n",
        "    class_mode=\"categorical\",\n",
        "    target_size=(48, 48),\n",
        "    color_mode=\"rgb\",\n",
        "    shuffle=False,\n",
        "    seed=42)\n",
        "files = testGen.filenames\n",
        "paths = testGen.filepaths\n",
        " \n",
        " \n",
        "# use our trained model to make predictions on the data\n",
        "predIdxs = model.predict(testGen)\n",
        " \n",
        "# for each image in the testing set, we report the score and predicted class\n",
        "for prediction in predIdxs:\n",
        "    print(\"Prediction: {}, score: {}\".format((1 if prediction[-1] > .5 else 0) , prediction[-1]))"
      ],
      "execution_count": null,
      "outputs": [
        {
          "output_type": "stream",
          "text": [
            "Found 24 images belonging to 1 classes.\n",
            "Prediction: 0, score: 0.15413205325603485\n",
            "Prediction: 0, score: 0.34114181995391846\n",
            "Prediction: 1, score: 0.9567980170249939\n",
            "Prediction: 1, score: 0.9695548415184021\n",
            "Prediction: 1, score: 0.9858142733573914\n",
            "Prediction: 1, score: 0.5989706516265869\n",
            "Prediction: 0, score: 0.13619288802146912\n",
            "Prediction: 0, score: 0.1355980783700943\n",
            "Prediction: 1, score: 0.866153359413147\n",
            "Prediction: 1, score: 0.9061095118522644\n",
            "Prediction: 1, score: 0.6600800156593323\n",
            "Prediction: 0, score: 0.17191939055919647\n",
            "Prediction: 1, score: 0.9339074492454529\n",
            "Prediction: 0, score: 0.2953018248081207\n",
            "Prediction: 1, score: 0.7979119420051575\n",
            "Prediction: 0, score: 0.45995405316352844\n",
            "Prediction: 0, score: 0.12372042238712311\n",
            "Prediction: 0, score: 0.4678401052951813\n",
            "Prediction: 1, score: 0.9044085144996643\n",
            "Prediction: 0, score: 0.1597348004579544\n",
            "Prediction: 1, score: 0.9319671392440796\n",
            "Prediction: 1, score: 0.9624251127243042\n",
            "Prediction: 0, score: 0.020104989409446716\n",
            "Prediction: 1, score: 0.7339551448822021\n"
          ],
          "name": "stdout"
        }
      ]
    },
    {
      "cell_type": "markdown",
      "metadata": {
        "id": "y0nXpPyokv6z"
      },
      "source": [
        "## Visualizing the Test Data\n",
        "\n",
        "During training, we've reserved a proportion of the labeled images (typically 20-30%) for validation and testing.  The images in the ```test_imgs/99999``` folder are some of the reserved test images we did not use to train the model.  If you've loaded the ```test_imgs``` folder we provided and run it through the model, we can visualize images where the model got it right and wrong to help you understand where the model does well and where it might be error-prone. To do this, we'll use the labels provided to build a confusion matrix.  Confusion matrices provide information about where the model correctly predicted, and where it incorrectly predicted for each type of input.  An example is shown below:\n",
        "<center>\n",
        "<img src=\"https://miro.medium.com/max/1500/1*uq5OIjMM3lBO2IaqlKVefA.png\" style=\"height: 500px\"/> <div> Example of 6 dimensional confusion matrix from <a href=\"https://towardsdatascience.com/a-simple-cnn-multi-image-classifier-31c463324fa\">This Article</a> by Iftekher Mamun.\n",
        "</div>\n",
        "</center>\n",
        "\n",
        "The script will pick through  each type of image, and show you the results for the training data as well as your images.  Because we only have 2 classes, we can simplify this categorization to just four categories:\n",
        "1. Predicted = 1, Actual = 1 (True Positive, TP)\n",
        "2. Predicted = 1, Actual = 0 (False Positive, FP)\n",
        "3. Predicted = 0, Actual = 0 (True Negative, TN)\n",
        "4. Predicted = 0, Actual = 1 (False Negative, FN)\n",
        "\n",
        "In the real world, you may want to define your own cost function for training the model so that certain types of errors are \"punished\" more. You can define cost functions in any way they can produce an optimization problem.  \n",
        "\n",
        "In medicine, we typically assume a False Negative is more harmful than a False Positive, so we may adjust the cost function so that arrangement of predictions reflects the real world costs.  This all relates back to the ROC analysis as well; the CNN training is essentially trying to find an optimized function for a very high-dimensional ROC curve."
      ]
    },
    {
      "cell_type": "code",
      "metadata": {
        "id": "7MaOmgzWNx5X",
        "cellView": "both",
        "outputId": "cb598a8f-e484-44ce-e998-3e6dff85f1dd",
        "colab": {
          "base_uri": "https://localhost:8080/",
          "height": 1000
        }
      },
      "source": [
        "#@title Test each image against the model\n",
        "#@markdown Threshold is the cutoff for deciding if the image is cancer or not. <br>\n",
        "#@markdown 0.5 is common and used above, but you may set it higher or lower.\n",
        "threshold = 0.5 #@param {type:\"slider\", min:0, max:1, step:0.01}\n",
        " \n",
        "# now what we'll do is rip through some test images again and determine which  \n",
        "# were correctly and incorrectly classified, and display one of each:\n",
        "# True positive, False positive, False negative, True negative.\n",
        "try:\n",
        "    directory = os.path.join(TEST_PATH + \"99999/\")\n",
        "except NameError:\n",
        "    raise(\"Please run the model above before visualizing the results!\")\n",
        " \n",
        " \n",
        "fig = plt.figure(1, figsize=(8,16))\n",
        " \n",
        "f1 = fig.add_subplot(4,2,1)\n",
        "f1.axis('off')\n",
        "f1.title.set_text(\"True Positive, Provided\")\n",
        " \n",
        "f2 = fig.add_subplot(4,2,2)\n",
        "f2.axis('off')\n",
        "f2.title.set_text(\"False Positive, Provided\")\n",
        " \n",
        "f3 = fig.add_subplot(4,2,3)\n",
        "f3.axis('off')\n",
        "f3.title.set_text(\"False Negative, Provided\")\n",
        " \n",
        "f4 = fig.add_subplot(4,2,4)\n",
        "f4.axis('off')\n",
        "f4.title.set_text(\"True Negative, Provided\")\n",
        " \n",
        "g1 = fig.add_subplot(4,2,5)\n",
        "g1.axis('off')\n",
        "g1.title.set_text(\"True Positive, User\")\n",
        " \n",
        "g2 = fig.add_subplot(4,2,6)\n",
        "g2.axis('off')\n",
        "g2.title.set_text(\"False Positive, User\")\n",
        " \n",
        "g3 = fig.add_subplot(4,2,7)\n",
        "g3.axis('off')\n",
        "g3.title.set_text(\"False Negative, User\")\n",
        " \n",
        "g4 = fig.add_subplot(4,2,8)\n",
        "g4.axis('off')\n",
        "g4.title.set_text(\"True Negative, User\")\n",
        " \n",
        "# examples from povided test classes\n",
        "TP = []\n",
        "TN = []\n",
        "FP = []\n",
        "FN = []\n",
        " \n",
        "TPt = []\n",
        "TNt = []\n",
        "FPt = []\n",
        "FNt = []\n",
        " \n",
        "model_scores = [1 if score > threshold else 0 for lbl,score in predIdxs]\n",
        " \n",
        "for idx,filename in enumerate(paths):\n",
        "    if filename.endswith(\".png\"): \n",
        "        if model_scores[idx] == 1:\n",
        "            if 'class' in filename:\n",
        "              TP.append(filename) if 'class1' in filename else FP.append(filename)\n",
        "            elif '_tc' in filename:\n",
        "              TPt.append(filename) if 'tc1' in filename else FPt.append(filename)\n",
        "        else:\n",
        "            if 'class' in filename:\n",
        "              FN.append(filename) if 'class1' in filename else TN.append(filename)\n",
        "            elif '_tc' in filename:\n",
        "              FNt.append(filename) if 'tc1' in filename else TNt.append(filename)\n",
        "    else:\n",
        "        continue\n",
        " \n",
        "# Plot provided test image model prediction results\n",
        "provided_res = list(zip([f1,f2,f3,f4], [TP, FP, FN, TN]))\n",
        "for category in provided_res:\n",
        "    try:\n",
        "        sel = np.random.choice(category[1])\n",
        "    except ValueError:\n",
        "        continue\n",
        "    img = plt.imread(sel)\n",
        "    category[0].imshow(img)\n",
        " \n",
        "# plot user provided test image results\n",
        "user_res = list(zip([g1,g2,g3,g4], [TPt, FPt, FNt, TNt]))\n",
        "for category in user_res:\n",
        "    try:\n",
        "      sel = np.random.choice(category[1])\n",
        "    except ValueError:\n",
        "      continue\n",
        "    img = plt.imread(sel)\n",
        "    category[0].imshow(img, 0)\n",
        " \n",
        "sep = plt.plot([0, 1],[0.51, 0.51], color='k', lw=5,transform=plt.gcf().transFigure, clip_on=False)"
      ],
      "execution_count": null,
      "outputs": [
        {
          "output_type": "error",
          "ename": "ValueError",
          "evalue": "ignored",
          "traceback": [
            "\u001b[0;31m---------------------------------------------------------------------------\u001b[0m",
            "\u001b[0;31mValueError\u001b[0m                                Traceback (most recent call last)",
            "\u001b[0;32m<ipython-input-18-bfed94e82e66>\u001b[0m in \u001b[0;36m<module>\u001b[0;34m()\u001b[0m\n\u001b[1;32m     93\u001b[0m       \u001b[0;32mcontinue\u001b[0m\u001b[0;34m\u001b[0m\u001b[0;34m\u001b[0m\u001b[0m\n\u001b[1;32m     94\u001b[0m     \u001b[0mimg\u001b[0m \u001b[0;34m=\u001b[0m \u001b[0mplt\u001b[0m\u001b[0;34m.\u001b[0m\u001b[0mimread\u001b[0m\u001b[0;34m(\u001b[0m\u001b[0msel\u001b[0m\u001b[0;34m)\u001b[0m\u001b[0;34m\u001b[0m\u001b[0;34m\u001b[0m\u001b[0m\n\u001b[0;32m---> 95\u001b[0;31m     \u001b[0mcategory\u001b[0m\u001b[0;34m[\u001b[0m\u001b[0;36m0\u001b[0m\u001b[0;34m]\u001b[0m\u001b[0;34m.\u001b[0m\u001b[0mimshow\u001b[0m\u001b[0;34m(\u001b[0m\u001b[0mimg\u001b[0m\u001b[0;34m,\u001b[0m \u001b[0;36m0\u001b[0m\u001b[0;34m)\u001b[0m\u001b[0;34m\u001b[0m\u001b[0;34m\u001b[0m\u001b[0m\n\u001b[0m\u001b[1;32m     96\u001b[0m \u001b[0;34m\u001b[0m\u001b[0m\n\u001b[1;32m     97\u001b[0m \u001b[0msep\u001b[0m \u001b[0;34m=\u001b[0m \u001b[0mplt\u001b[0m\u001b[0;34m.\u001b[0m\u001b[0mplot\u001b[0m\u001b[0;34m(\u001b[0m\u001b[0;34m[\u001b[0m\u001b[0;36m0\u001b[0m\u001b[0;34m,\u001b[0m \u001b[0;36m1\u001b[0m\u001b[0;34m]\u001b[0m\u001b[0;34m,\u001b[0m\u001b[0;34m[\u001b[0m\u001b[0;36m0.51\u001b[0m\u001b[0;34m,\u001b[0m \u001b[0;36m0.51\u001b[0m\u001b[0;34m]\u001b[0m\u001b[0;34m,\u001b[0m \u001b[0mcolor\u001b[0m\u001b[0;34m=\u001b[0m\u001b[0;34m'k'\u001b[0m\u001b[0;34m,\u001b[0m \u001b[0mlw\u001b[0m\u001b[0;34m=\u001b[0m\u001b[0;36m5\u001b[0m\u001b[0;34m,\u001b[0m\u001b[0mtransform\u001b[0m\u001b[0;34m=\u001b[0m\u001b[0mplt\u001b[0m\u001b[0;34m.\u001b[0m\u001b[0mgcf\u001b[0m\u001b[0;34m(\u001b[0m\u001b[0;34m)\u001b[0m\u001b[0;34m.\u001b[0m\u001b[0mtransFigure\u001b[0m\u001b[0;34m,\u001b[0m \u001b[0mclip_on\u001b[0m\u001b[0;34m=\u001b[0m\u001b[0;32mFalse\u001b[0m\u001b[0;34m)\u001b[0m\u001b[0;34m\u001b[0m\u001b[0;34m\u001b[0m\u001b[0m\n",
            "\u001b[0;32m/usr/local/lib/python3.6/dist-packages/matplotlib/__init__.py\u001b[0m in \u001b[0;36minner\u001b[0;34m(ax, data, *args, **kwargs)\u001b[0m\n\u001b[1;32m   1563\u001b[0m     \u001b[0;32mdef\u001b[0m \u001b[0minner\u001b[0m\u001b[0;34m(\u001b[0m\u001b[0max\u001b[0m\u001b[0;34m,\u001b[0m \u001b[0;34m*\u001b[0m\u001b[0margs\u001b[0m\u001b[0;34m,\u001b[0m \u001b[0mdata\u001b[0m\u001b[0;34m=\u001b[0m\u001b[0;32mNone\u001b[0m\u001b[0;34m,\u001b[0m \u001b[0;34m**\u001b[0m\u001b[0mkwargs\u001b[0m\u001b[0;34m)\u001b[0m\u001b[0;34m:\u001b[0m\u001b[0;34m\u001b[0m\u001b[0;34m\u001b[0m\u001b[0m\n\u001b[1;32m   1564\u001b[0m         \u001b[0;32mif\u001b[0m \u001b[0mdata\u001b[0m \u001b[0;32mis\u001b[0m \u001b[0;32mNone\u001b[0m\u001b[0;34m:\u001b[0m\u001b[0;34m\u001b[0m\u001b[0;34m\u001b[0m\u001b[0m\n\u001b[0;32m-> 1565\u001b[0;31m             \u001b[0;32mreturn\u001b[0m \u001b[0mfunc\u001b[0m\u001b[0;34m(\u001b[0m\u001b[0max\u001b[0m\u001b[0;34m,\u001b[0m \u001b[0;34m*\u001b[0m\u001b[0mmap\u001b[0m\u001b[0;34m(\u001b[0m\u001b[0msanitize_sequence\u001b[0m\u001b[0;34m,\u001b[0m \u001b[0margs\u001b[0m\u001b[0;34m)\u001b[0m\u001b[0;34m,\u001b[0m \u001b[0;34m**\u001b[0m\u001b[0mkwargs\u001b[0m\u001b[0;34m)\u001b[0m\u001b[0;34m\u001b[0m\u001b[0;34m\u001b[0m\u001b[0m\n\u001b[0m\u001b[1;32m   1566\u001b[0m \u001b[0;34m\u001b[0m\u001b[0m\n\u001b[1;32m   1567\u001b[0m         \u001b[0mbound\u001b[0m \u001b[0;34m=\u001b[0m \u001b[0mnew_sig\u001b[0m\u001b[0;34m.\u001b[0m\u001b[0mbind\u001b[0m\u001b[0;34m(\u001b[0m\u001b[0max\u001b[0m\u001b[0;34m,\u001b[0m \u001b[0;34m*\u001b[0m\u001b[0margs\u001b[0m\u001b[0;34m,\u001b[0m \u001b[0;34m**\u001b[0m\u001b[0mkwargs\u001b[0m\u001b[0;34m)\u001b[0m\u001b[0;34m\u001b[0m\u001b[0;34m\u001b[0m\u001b[0m\n",
            "\u001b[0;32m/usr/local/lib/python3.6/dist-packages/matplotlib/cbook/deprecation.py\u001b[0m in \u001b[0;36mwrapper\u001b[0;34m(*args, **kwargs)\u001b[0m\n\u001b[1;32m    356\u001b[0m                 \u001b[0;34mf\"%(removal)s.  If any parameter follows {name!r}, they \"\u001b[0m\u001b[0;34m\u001b[0m\u001b[0;34m\u001b[0m\u001b[0m\n\u001b[1;32m    357\u001b[0m                 f\"should be pass as keyword, not positionally.\")\n\u001b[0;32m--> 358\u001b[0;31m         \u001b[0;32mreturn\u001b[0m \u001b[0mfunc\u001b[0m\u001b[0;34m(\u001b[0m\u001b[0;34m*\u001b[0m\u001b[0margs\u001b[0m\u001b[0;34m,\u001b[0m \u001b[0;34m**\u001b[0m\u001b[0mkwargs\u001b[0m\u001b[0;34m)\u001b[0m\u001b[0;34m\u001b[0m\u001b[0;34m\u001b[0m\u001b[0m\n\u001b[0m\u001b[1;32m    359\u001b[0m \u001b[0;34m\u001b[0m\u001b[0m\n\u001b[1;32m    360\u001b[0m     \u001b[0;32mreturn\u001b[0m \u001b[0mwrapper\u001b[0m\u001b[0;34m\u001b[0m\u001b[0;34m\u001b[0m\u001b[0m\n",
            "\u001b[0;32m/usr/local/lib/python3.6/dist-packages/matplotlib/cbook/deprecation.py\u001b[0m in \u001b[0;36mwrapper\u001b[0;34m(*args, **kwargs)\u001b[0m\n\u001b[1;32m    356\u001b[0m                 \u001b[0;34mf\"%(removal)s.  If any parameter follows {name!r}, they \"\u001b[0m\u001b[0;34m\u001b[0m\u001b[0;34m\u001b[0m\u001b[0m\n\u001b[1;32m    357\u001b[0m                 f\"should be pass as keyword, not positionally.\")\n\u001b[0;32m--> 358\u001b[0;31m         \u001b[0;32mreturn\u001b[0m \u001b[0mfunc\u001b[0m\u001b[0;34m(\u001b[0m\u001b[0;34m*\u001b[0m\u001b[0margs\u001b[0m\u001b[0;34m,\u001b[0m \u001b[0;34m**\u001b[0m\u001b[0mkwargs\u001b[0m\u001b[0;34m)\u001b[0m\u001b[0;34m\u001b[0m\u001b[0;34m\u001b[0m\u001b[0m\n\u001b[0m\u001b[1;32m    359\u001b[0m \u001b[0;34m\u001b[0m\u001b[0m\n\u001b[1;32m    360\u001b[0m     \u001b[0;32mreturn\u001b[0m \u001b[0mwrapper\u001b[0m\u001b[0;34m\u001b[0m\u001b[0;34m\u001b[0m\u001b[0m\n",
            "\u001b[0;32m/usr/local/lib/python3.6/dist-packages/matplotlib/axes/_axes.py\u001b[0m in \u001b[0;36mimshow\u001b[0;34m(self, X, cmap, norm, aspect, interpolation, alpha, vmin, vmax, origin, extent, shape, filternorm, filterrad, imlim, resample, url, **kwargs)\u001b[0m\n\u001b[1;32m   5622\u001b[0m         im = mimage.AxesImage(self, cmap, norm, interpolation, origin, extent,\n\u001b[1;32m   5623\u001b[0m                               \u001b[0mfilternorm\u001b[0m\u001b[0;34m=\u001b[0m\u001b[0mfilternorm\u001b[0m\u001b[0;34m,\u001b[0m \u001b[0mfilterrad\u001b[0m\u001b[0;34m=\u001b[0m\u001b[0mfilterrad\u001b[0m\u001b[0;34m,\u001b[0m\u001b[0;34m\u001b[0m\u001b[0;34m\u001b[0m\u001b[0m\n\u001b[0;32m-> 5624\u001b[0;31m                               resample=resample, **kwargs)\n\u001b[0m\u001b[1;32m   5625\u001b[0m \u001b[0;34m\u001b[0m\u001b[0m\n\u001b[1;32m   5626\u001b[0m         \u001b[0mim\u001b[0m\u001b[0;34m.\u001b[0m\u001b[0mset_data\u001b[0m\u001b[0;34m(\u001b[0m\u001b[0mX\u001b[0m\u001b[0;34m)\u001b[0m\u001b[0;34m\u001b[0m\u001b[0;34m\u001b[0m\u001b[0m\n",
            "\u001b[0;32m/usr/local/lib/python3.6/dist-packages/matplotlib/image.py\u001b[0m in \u001b[0;36m__init__\u001b[0;34m(self, ax, cmap, norm, interpolation, origin, extent, filternorm, filterrad, resample, **kwargs)\u001b[0m\n\u001b[1;32m    897\u001b[0m             \u001b[0mfilterrad\u001b[0m\u001b[0;34m=\u001b[0m\u001b[0mfilterrad\u001b[0m\u001b[0;34m,\u001b[0m\u001b[0;34m\u001b[0m\u001b[0;34m\u001b[0m\u001b[0m\n\u001b[1;32m    898\u001b[0m             \u001b[0mresample\u001b[0m\u001b[0;34m=\u001b[0m\u001b[0mresample\u001b[0m\u001b[0;34m,\u001b[0m\u001b[0;34m\u001b[0m\u001b[0;34m\u001b[0m\u001b[0m\n\u001b[0;32m--> 899\u001b[0;31m             \u001b[0;34m**\u001b[0m\u001b[0mkwargs\u001b[0m\u001b[0;34m\u001b[0m\u001b[0;34m\u001b[0m\u001b[0m\n\u001b[0m\u001b[1;32m    900\u001b[0m         )\n\u001b[1;32m    901\u001b[0m \u001b[0;34m\u001b[0m\u001b[0m\n",
            "\u001b[0;32m/usr/local/lib/python3.6/dist-packages/matplotlib/image.py\u001b[0m in \u001b[0;36m__init__\u001b[0;34m(self, ax, cmap, norm, interpolation, origin, filternorm, filterrad, resample, **kwargs)\u001b[0m\n\u001b[1;32m    246\u001b[0m                  ):\n\u001b[1;32m    247\u001b[0m         \u001b[0mmartist\u001b[0m\u001b[0;34m.\u001b[0m\u001b[0mArtist\u001b[0m\u001b[0;34m.\u001b[0m\u001b[0m__init__\u001b[0m\u001b[0;34m(\u001b[0m\u001b[0mself\u001b[0m\u001b[0;34m)\u001b[0m\u001b[0;34m\u001b[0m\u001b[0;34m\u001b[0m\u001b[0m\n\u001b[0;32m--> 248\u001b[0;31m         \u001b[0mcm\u001b[0m\u001b[0;34m.\u001b[0m\u001b[0mScalarMappable\u001b[0m\u001b[0;34m.\u001b[0m\u001b[0m__init__\u001b[0m\u001b[0;34m(\u001b[0m\u001b[0mself\u001b[0m\u001b[0;34m,\u001b[0m \u001b[0mnorm\u001b[0m\u001b[0;34m,\u001b[0m \u001b[0mcmap\u001b[0m\u001b[0;34m)\u001b[0m\u001b[0;34m\u001b[0m\u001b[0;34m\u001b[0m\u001b[0m\n\u001b[0m\u001b[1;32m    249\u001b[0m         \u001b[0mself\u001b[0m\u001b[0;34m.\u001b[0m\u001b[0m_mouseover\u001b[0m \u001b[0;34m=\u001b[0m \u001b[0;32mTrue\u001b[0m\u001b[0;34m\u001b[0m\u001b[0;34m\u001b[0m\u001b[0m\n\u001b[1;32m    250\u001b[0m         \u001b[0;32mif\u001b[0m \u001b[0morigin\u001b[0m \u001b[0;32mis\u001b[0m \u001b[0;32mNone\u001b[0m\u001b[0;34m:\u001b[0m\u001b[0;34m\u001b[0m\u001b[0;34m\u001b[0m\u001b[0m\n",
            "\u001b[0;32m/usr/local/lib/python3.6/dist-packages/matplotlib/cm.py\u001b[0m in \u001b[0;36m__init__\u001b[0;34m(self, norm, cmap)\u001b[0m\n\u001b[1;32m    171\u001b[0m         \u001b[0mself\u001b[0m\u001b[0;34m.\u001b[0m\u001b[0mnorm\u001b[0m \u001b[0;34m=\u001b[0m \u001b[0mnorm\u001b[0m\u001b[0;34m\u001b[0m\u001b[0;34m\u001b[0m\u001b[0m\n\u001b[1;32m    172\u001b[0m         \u001b[0;31m#: The Colormap instance of this ScalarMappable.\u001b[0m\u001b[0;34m\u001b[0m\u001b[0;34m\u001b[0m\u001b[0;34m\u001b[0m\u001b[0m\n\u001b[0;32m--> 173\u001b[0;31m         \u001b[0mself\u001b[0m\u001b[0;34m.\u001b[0m\u001b[0mcmap\u001b[0m \u001b[0;34m=\u001b[0m \u001b[0mget_cmap\u001b[0m\u001b[0;34m(\u001b[0m\u001b[0mcmap\u001b[0m\u001b[0;34m)\u001b[0m\u001b[0;34m\u001b[0m\u001b[0;34m\u001b[0m\u001b[0m\n\u001b[0m\u001b[1;32m    174\u001b[0m         \u001b[0;31m#: The last colorbar associated with this ScalarMappable. May be None.\u001b[0m\u001b[0;34m\u001b[0m\u001b[0;34m\u001b[0m\u001b[0;34m\u001b[0m\u001b[0m\n\u001b[1;32m    175\u001b[0m         \u001b[0mself\u001b[0m\u001b[0;34m.\u001b[0m\u001b[0mcolorbar\u001b[0m \u001b[0;34m=\u001b[0m \u001b[0;32mNone\u001b[0m\u001b[0;34m\u001b[0m\u001b[0;34m\u001b[0m\u001b[0m\n",
            "\u001b[0;32m/usr/local/lib/python3.6/dist-packages/matplotlib/cm.py\u001b[0m in \u001b[0;36mget_cmap\u001b[0;34m(name, lut)\u001b[0m\n\u001b[1;32m    132\u001b[0m     \u001b[0;32mif\u001b[0m \u001b[0misinstance\u001b[0m\u001b[0;34m(\u001b[0m\u001b[0mname\u001b[0m\u001b[0;34m,\u001b[0m \u001b[0mcolors\u001b[0m\u001b[0;34m.\u001b[0m\u001b[0mColormap\u001b[0m\u001b[0;34m)\u001b[0m\u001b[0;34m:\u001b[0m\u001b[0;34m\u001b[0m\u001b[0;34m\u001b[0m\u001b[0m\n\u001b[1;32m    133\u001b[0m         \u001b[0;32mreturn\u001b[0m \u001b[0mname\u001b[0m\u001b[0;34m\u001b[0m\u001b[0;34m\u001b[0m\u001b[0m\n\u001b[0;32m--> 134\u001b[0;31m     \u001b[0mcbook\u001b[0m\u001b[0;34m.\u001b[0m\u001b[0m_check_in_list\u001b[0m\u001b[0;34m(\u001b[0m\u001b[0msorted\u001b[0m\u001b[0;34m(\u001b[0m\u001b[0mcmap_d\u001b[0m\u001b[0;34m)\u001b[0m\u001b[0;34m,\u001b[0m \u001b[0mname\u001b[0m\u001b[0;34m=\u001b[0m\u001b[0mname\u001b[0m\u001b[0;34m)\u001b[0m\u001b[0;34m\u001b[0m\u001b[0;34m\u001b[0m\u001b[0m\n\u001b[0m\u001b[1;32m    135\u001b[0m     \u001b[0;32mif\u001b[0m \u001b[0mlut\u001b[0m \u001b[0;32mis\u001b[0m \u001b[0;32mNone\u001b[0m\u001b[0;34m:\u001b[0m\u001b[0;34m\u001b[0m\u001b[0;34m\u001b[0m\u001b[0m\n\u001b[1;32m    136\u001b[0m         \u001b[0;32mreturn\u001b[0m \u001b[0mcmap_d\u001b[0m\u001b[0;34m[\u001b[0m\u001b[0mname\u001b[0m\u001b[0;34m]\u001b[0m\u001b[0;34m\u001b[0m\u001b[0;34m\u001b[0m\u001b[0m\n",
            "\u001b[0;32m/usr/local/lib/python3.6/dist-packages/matplotlib/cbook/__init__.py\u001b[0m in \u001b[0;36m_check_in_list\u001b[0;34m(_values, **kwargs)\u001b[0m\n\u001b[1;32m   2143\u001b[0m             raise ValueError(\n\u001b[1;32m   2144\u001b[0m                 \u001b[0;34m\"{!r} is not a valid value for {}; supported values are {}\"\u001b[0m\u001b[0;34m\u001b[0m\u001b[0;34m\u001b[0m\u001b[0m\n\u001b[0;32m-> 2145\u001b[0;31m                 .format(v, k, ', '.join(map(repr, values))))\n\u001b[0m\u001b[1;32m   2146\u001b[0m \u001b[0;34m\u001b[0m\u001b[0m\n\u001b[1;32m   2147\u001b[0m \u001b[0;34m\u001b[0m\u001b[0m\n",
            "\u001b[0;31mValueError\u001b[0m: 0 is not a valid value for name; supported values are 'Accent', 'Accent_r', 'Blues', 'Blues_r', 'BrBG', 'BrBG_r', 'BuGn', 'BuGn_r', 'BuPu', 'BuPu_r', 'CMRmap', 'CMRmap_r', 'Dark2', 'Dark2_r', 'GnBu', 'GnBu_r', 'Greens', 'Greens_r', 'Greys', 'Greys_r', 'OrRd', 'OrRd_r', 'Oranges', 'Oranges_r', 'PRGn', 'PRGn_r', 'Paired', 'Paired_r', 'Pastel1', 'Pastel1_r', 'Pastel2', 'Pastel2_r', 'PiYG', 'PiYG_r', 'PuBu', 'PuBuGn', 'PuBuGn_r', 'PuBu_r', 'PuOr', 'PuOr_r', 'PuRd', 'PuRd_r', 'Purples', 'Purples_r', 'RdBu', 'RdBu_r', 'RdGy', 'RdGy_r', 'RdPu', 'RdPu_r', 'RdYlBu', 'RdYlBu_r', 'RdYlGn', 'RdYlGn_r', 'Reds', 'Reds_r', 'Set1', 'Set1_r', 'Set2', 'Set2_r', 'Set3', 'Set3_r', 'Spectral', 'Spectral_r', 'Wistia', 'Wistia_r', 'YlGn', 'YlGnBu', 'YlGnBu_r', 'YlGn_r', 'YlOrBr', 'YlOrBr_r', 'YlOrRd', 'YlOrRd_r', 'afmhot', 'afmhot_r', 'autumn', 'autumn_r', 'binary', 'binary_r', 'bone', 'bone_r', 'brg', 'brg_r', 'bwr', 'bwr_r', 'cividis', 'cividis_r', 'cool', 'cool_r', 'coolwarm', 'coolwarm_r', 'copper', 'copper_r', 'cubehelix', 'cubehelix_r', 'flag', 'flag_r', 'gist_earth', 'gist_earth_r', 'gist_gray', 'gist_gray_r', 'gist_heat', 'gist_heat_r', 'gist_ncar', 'gist_ncar_r', 'gist_rainbow', 'gist_rainbow_r', 'gist_stern', 'gist_stern_r', 'gist_yarg', 'gist_yarg_r', 'gnuplot', 'gnuplot2', 'gnuplot2_r', 'gnuplot_r', 'gray', 'gray_r', 'hot', 'hot_r', 'hsv', 'hsv_r', 'inferno', 'inferno_r', 'jet', 'jet_r', 'magma', 'magma_r', 'nipy_spectral', 'nipy_spectral_r', 'ocean', 'ocean_r'..."
          ]
        },
        {
          "output_type": "display_data",
          "data": {
            "image/png": "[encoded data removed]",
            "text/plain": [
              "<Figure size 576x1152 with 8 Axes>"
            ]
          },
          "metadata": {
            "tags": [],
            "needs_background": "light"
          }
        }
      ]
    },
    {
      "cell_type": "markdown",
      "metadata": {
        "id": "8rwJBQDclL6P"
      },
      "source": [
        "## Results\n",
        "\n",
        "If one of the above four are empty, it means the model didn't find one for that category.  You can re-run the previous script to generate new random selections of the outputs as they were categorized. "
      ]
    },
    {
      "cell_type": "code",
      "metadata": {
        "id": "EwX1hvPUI2Gv",
        "outputId": "3ed2f270-3346-486c-a1cc-881316894685",
        "colab": {
          "base_uri": "https://localhost:8080/"
        }
      },
      "source": [
        "!pwd\n",
        " \n",
        "!mv Tissue2_tc0.png /content/test_imgs/99999"
      ],
      "execution_count": null,
      "outputs": [
        {
          "output_type": "stream",
          "text": [
            "/content\n"
          ],
          "name": "stdout"
        }
      ]
    },
    {
      "cell_type": "code",
      "metadata": {
        "id": "YK6qdZ8hNx5a",
        "outputId": "628e2df2-ff57-45b5-98d9-1b4382e803d1",
        "colab": {
          "base_uri": "https://localhost:8080/"
        }
      },
      "source": [
        "# Run this cell to get a readout of how all files got classified.\n",
        "# You can then check them out and try and figure out if the model has any\n",
        "# obvious strengths or weaknesses with regards to input image.\n",
        " \n",
        " \n",
        "print(\"Provided Images, False Positive: {}\".format(FP))\n",
        "print(\"Provided Images, False Negative: {}\".format(FN))\n",
        "print(\"Provided Images, True Positive: {}\".format(TP))\n",
        "print(\"Provided Images, True Negative: {}\".format(TN))\n",
        " \n",
        "print(\"Your Images, False Positive: {}\".format(FPt))\n",
        "print(\"Your Images, False Negative: {}\".format(FNt))\n",
        "print(\"Your Images, True Positive: {}\".format(TPt))\n",
        "print(\"Your Images, True Negative: {}\".format(TNt))"
      ],
      "execution_count": null,
      "outputs": [
        {
          "output_type": "stream",
          "text": [
            "Provided Images, False Positive: ['test_imgs/99999/8974_idx5_x151_y1901_class0.png', 'test_imgs/99999/8974_idx5_x251_y1201_class0.png', 'test_imgs/99999/8974_idx5_x751_y1801_class0.png']\n",
            "Provided Images, False Negative: ['test_imgs/99999/8864_idx5_x1451_y2801_class1.png', 'test_imgs/99999/8864_idx5_x1551_y2501_class1.png']\n",
            "Provided Images, True Positive: ['test_imgs/99999/8864_idx5_x1551_y2701_class1.png', 'test_imgs/99999/8864_idx5_x1551_y2751_class1.png', 'test_imgs/99999/8864_idx5_x1751_y2701_class1.png', 'test_imgs/99999/8864_idx5_x1801_y2101_class1.png', 'test_imgs/99999/8865_idx5_x1701_y651_class1.png', 'test_imgs/99999/8865_idx5_x1701_y701_class1.png', 'test_imgs/99999/8865_idx5_x1951_y601_class1.png']\n",
            "Provided Images, True Negative: ['test_imgs/99999/8865_idx5_x101_y1001_class0.png', 'test_imgs/99999/8865_idx5_x101_y1051_class0.png', 'test_imgs/99999/8865_idx5_x551_y1401_class0.png', 'test_imgs/99999/8974_idx5_x151_y2001_class0.png', 'test_imgs/99999/8974_idx5_x251_y1251_class0.png', 'test_imgs/99999/8974_idx5_x51_y1001_class0.png', 'test_imgs/99999/8974_idx5_x51_y1651_class0.png']\n",
            "Your Images, False Positive: ['test_imgs/99999/image836_tc0.png']\n",
            "Your Images, False Negative: []\n",
            "Your Images, True Positive: ['test_imgs/99999/image443_tc1.png', 'test_imgs/99999/image444_tc1.png']\n",
            "Your Images, True Negative: ['test_imgs/99999/image835_tc0.png']\n"
          ],
          "name": "stdout"
        }
      ]
    },
    {
      "cell_type": "markdown",
      "metadata": {
        "id": "McrPp1pVZF5T"
      },
      "source": [
        "#REF\n",
        "\n",
        "Rosebrock, Adrian. “Breast Cancer Classification with Keras and Deep Learning.” PyImageSearch, 23 Apr. 2019, https://www.pyimagesearch.com/2019/02/18/breast-cancer-classification-with-keras-and-deep-learning/."
      ]
    }
  ]
}